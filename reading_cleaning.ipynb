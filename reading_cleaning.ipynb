{
 "cells": [
  {
   "cell_type": "code",
   "execution_count": 14,
   "metadata": {},
   "outputs": [],
   "source": [
    "import pandas as pd\n",
    "\n",
    "df2021= pd.read_csv('data/zeus_download_doc_digitalizzati20210514.csv', sep=\"|\", encoding='latin')\n"
   ]
  },
  {
   "cell_type": "code",
   "execution_count": 15,
   "metadata": {},
   "outputs": [
    {
     "name": "stderr",
     "output_type": "stream",
     "text": [
      "C:\\Users\\sophia.dellarciprete\\AppData\\Local\\Temp\\ipykernel_21184\\3531384003.py:1: FutureWarning: DataFrame.applymap has been deprecated. Use DataFrame.map instead.\n",
      "  df2021 = df2021.applymap(lambda x: x.lower() if isinstance(x, str) else x)\n"
     ]
    }
   ],
   "source": [
    "df2021 = df2021.applymap(lambda x: x.lower() if isinstance(x, str) else x)"
   ]
  },
  {
   "cell_type": "code",
   "execution_count": 16,
   "metadata": {},
   "outputs": [
    {
     "data": {
      "text/html": [
       "<div>\n",
       "<style scoped>\n",
       "    .dataframe tbody tr th:only-of-type {\n",
       "        vertical-align: middle;\n",
       "    }\n",
       "\n",
       "    .dataframe tbody tr th {\n",
       "        vertical-align: top;\n",
       "    }\n",
       "\n",
       "    .dataframe thead th {\n",
       "        text-align: right;\n",
       "    }\n",
       "</style>\n",
       "<table border=\"1\" class=\"dataframe\">\n",
       "  <thead>\n",
       "    <tr style=\"text-align: right;\">\n",
       "      <th></th>\n",
       "      <th>num_prat</th>\n",
       "      <th>famiglia</th>\n",
       "      <th>des_tipodoc</th>\n",
       "      <th>nomefile</th>\n",
       "      <th>nome_epc</th>\n",
       "      <th>url</th>\n",
       "    </tr>\n",
       "  </thead>\n",
       "  <tbody>\n",
       "    <tr>\n",
       "      <th>0</th>\n",
       "      <td>23.0</td>\n",
       "      <td>fatture</td>\n",
       "      <td>pubblicitaï¿½</td>\n",
       "      <td>02560563.pdf</td>\n",
       "      <td>cpnotule_387336_1_</td>\n",
       "      <td>https://www.epc.bnl.it/bnl/filedownload.ashx?i...</td>\n",
       "    </tr>\n",
       "    <tr>\n",
       "      <th>1</th>\n",
       "      <td>532.0</td>\n",
       "      <td>altro</td>\n",
       "      <td>altro</td>\n",
       "      <td>00511949.pdf</td>\n",
       "      <td>inserimento acconto</td>\n",
       "      <td>https://www.epc.bnl.it/bnl/filedownload.ashx?i...</td>\n",
       "    </tr>\n",
       "    <tr>\n",
       "      <th>2</th>\n",
       "      <td>532.0</td>\n",
       "      <td>fatture</td>\n",
       "      <td>altro</td>\n",
       "      <td>00730131.pdf</td>\n",
       "      <td>cpnotule_88299_1_</td>\n",
       "      <td>https://www.epc.bnl.it/bnl/filedownload.ashx?i...</td>\n",
       "    </tr>\n",
       "    <tr>\n",
       "      <th>3</th>\n",
       "      <td>946.0</td>\n",
       "      <td>altro</td>\n",
       "      <td>altro</td>\n",
       "      <td>00946317.pdf</td>\n",
       "      <td>allega documento</td>\n",
       "      <td>https://www.epc.bnl.it/bnl/filedownload.ashx?i...</td>\n",
       "    </tr>\n",
       "    <tr>\n",
       "      <th>4</th>\n",
       "      <td>1538.0</td>\n",
       "      <td>altro</td>\n",
       "      <td>altro</td>\n",
       "      <td>02080862.pdf</td>\n",
       "      <td>documentogenerico___</td>\n",
       "      <td>https://www.epc.bnl.it/bnl/filedownload.ashx?i...</td>\n",
       "    </tr>\n",
       "    <tr>\n",
       "      <th>5</th>\n",
       "      <td>1538.0</td>\n",
       "      <td>fatture</td>\n",
       "      <td>altro</td>\n",
       "      <td>00655325.pdf</td>\n",
       "      <td>cpnotule_93992_1_</td>\n",
       "      <td>https://www.epc.bnl.it/bnl/filedownload.ashx?i...</td>\n",
       "    </tr>\n",
       "    <tr>\n",
       "      <th>6</th>\n",
       "      <td>1599.0</td>\n",
       "      <td>altro</td>\n",
       "      <td>altro</td>\n",
       "      <td>00331905.pdf</td>\n",
       "      <td>allega documento</td>\n",
       "      <td>https://www.epc.bnl.it/bnl/filedownload.ashx?i...</td>\n",
       "    </tr>\n",
       "    <tr>\n",
       "      <th>7</th>\n",
       "      <td>1599.0</td>\n",
       "      <td>altro</td>\n",
       "      <td>altro</td>\n",
       "      <td>00839638.pdf</td>\n",
       "      <td>legfiimm_2890__</td>\n",
       "      <td>https://www.epc.bnl.it/bnl/filedownload.ashx?i...</td>\n",
       "    </tr>\n",
       "    <tr>\n",
       "      <th>8</th>\n",
       "      <td>1599.0</td>\n",
       "      <td>altro</td>\n",
       "      <td>altro</td>\n",
       "      <td>03554258.pdf</td>\n",
       "      <td>_130502_145_221668</td>\n",
       "      <td>https://www.epc.bnl.it/bnl/filedownload.ashx?i...</td>\n",
       "    </tr>\n",
       "    <tr>\n",
       "      <th>9</th>\n",
       "      <td>1730.0</td>\n",
       "      <td>altro</td>\n",
       "      <td>altro</td>\n",
       "      <td>00900472.pdf</td>\n",
       "      <td>esito udienza: il g.e. si ï¿½ riservato</td>\n",
       "      <td>https://www.epc.bnl.it/bnl/filedownload.ashx?i...</td>\n",
       "    </tr>\n",
       "  </tbody>\n",
       "</table>\n",
       "</div>"
      ],
      "text/plain": [
       "   num_prat famiglia    des_tipodoc            nomefile  \\\n",
       "0      23.0  fatture  pubblicitaï¿½  02560563.pdf         \n",
       "1     532.0    altro          altro  00511949.pdf         \n",
       "2     532.0  fatture          altro  00730131.pdf         \n",
       "3     946.0    altro          altro  00946317.pdf         \n",
       "4    1538.0    altro          altro  02080862.pdf         \n",
       "5    1538.0  fatture          altro  00655325.pdf         \n",
       "6    1599.0    altro          altro  00331905.pdf         \n",
       "7    1599.0    altro          altro  00839638.pdf         \n",
       "8    1599.0    altro          altro  03554258.pdf         \n",
       "9    1730.0    altro          altro  00900472.pdf         \n",
       "\n",
       "                                  nome_epc  \\\n",
       "0                       cpnotule_387336_1_   \n",
       "1                      inserimento acconto   \n",
       "2                        cpnotule_88299_1_   \n",
       "3                         allega documento   \n",
       "4                     documentogenerico___   \n",
       "5                        cpnotule_93992_1_   \n",
       "6                         allega documento   \n",
       "7                          legfiimm_2890__   \n",
       "8                       _130502_145_221668   \n",
       "9  esito udienza: il g.e. si ï¿½ riservato   \n",
       "\n",
       "                                                 url  \n",
       "0  https://www.epc.bnl.it/bnl/filedownload.ashx?i...  \n",
       "1  https://www.epc.bnl.it/bnl/filedownload.ashx?i...  \n",
       "2  https://www.epc.bnl.it/bnl/filedownload.ashx?i...  \n",
       "3  https://www.epc.bnl.it/bnl/filedownload.ashx?i...  \n",
       "4  https://www.epc.bnl.it/bnl/filedownload.ashx?i...  \n",
       "5  https://www.epc.bnl.it/bnl/filedownload.ashx?i...  \n",
       "6  https://www.epc.bnl.it/bnl/filedownload.ashx?i...  \n",
       "7  https://www.epc.bnl.it/bnl/filedownload.ashx?i...  \n",
       "8  https://www.epc.bnl.it/bnl/filedownload.ashx?i...  \n",
       "9  https://www.epc.bnl.it/bnl/filedownload.ashx?i...  "
      ]
     },
     "execution_count": 16,
     "metadata": {},
     "output_type": "execute_result"
    }
   ],
   "source": [
    "df2021.head(2)"
   ]
  },
  {
   "cell_type": "code",
   "execution_count": 17,
   "metadata": {},
   "outputs": [
    {
     "data": {
      "text/html": [
       "<div>\n",
       "<style scoped>\n",
       "    .dataframe tbody tr th:only-of-type {\n",
       "        vertical-align: middle;\n",
       "    }\n",
       "\n",
       "    .dataframe tbody tr th {\n",
       "        vertical-align: top;\n",
       "    }\n",
       "\n",
       "    .dataframe thead th {\n",
       "        text-align: right;\n",
       "    }\n",
       "</style>\n",
       "<table border=\"1\" class=\"dataframe\">\n",
       "  <thead>\n",
       "    <tr style=\"text-align: right;\">\n",
       "      <th></th>\n",
       "      <th>num_prat</th>\n",
       "      <th>famiglia</th>\n",
       "      <th>des_tipodoc</th>\n",
       "      <th>nomefile</th>\n",
       "      <th>nome_epc</th>\n",
       "      <th>url</th>\n",
       "    </tr>\n",
       "  </thead>\n",
       "  <tbody>\n",
       "    <tr>\n",
       "      <th>1</th>\n",
       "      <td>532.0</td>\n",
       "      <td>altro</td>\n",
       "      <td>altro</td>\n",
       "      <td>00511949.pdf</td>\n",
       "      <td>inserimento acconto</td>\n",
       "      <td>https://www.epc.bnl.it/bnl/filedownload.ashx?i...</td>\n",
       "    </tr>\n",
       "    <tr>\n",
       "      <th>3</th>\n",
       "      <td>946.0</td>\n",
       "      <td>altro</td>\n",
       "      <td>altro</td>\n",
       "      <td>00946317.pdf</td>\n",
       "      <td>allega documento</td>\n",
       "      <td>https://www.epc.bnl.it/bnl/filedownload.ashx?i...</td>\n",
       "    </tr>\n",
       "    <tr>\n",
       "      <th>4</th>\n",
       "      <td>1538.0</td>\n",
       "      <td>altro</td>\n",
       "      <td>altro</td>\n",
       "      <td>02080862.pdf</td>\n",
       "      <td>documentogenerico___</td>\n",
       "      <td>https://www.epc.bnl.it/bnl/filedownload.ashx?i...</td>\n",
       "    </tr>\n",
       "    <tr>\n",
       "      <th>6</th>\n",
       "      <td>1599.0</td>\n",
       "      <td>altro</td>\n",
       "      <td>altro</td>\n",
       "      <td>00331905.pdf</td>\n",
       "      <td>allega documento</td>\n",
       "      <td>https://www.epc.bnl.it/bnl/filedownload.ashx?i...</td>\n",
       "    </tr>\n",
       "    <tr>\n",
       "      <th>7</th>\n",
       "      <td>1599.0</td>\n",
       "      <td>altro</td>\n",
       "      <td>altro</td>\n",
       "      <td>00839638.pdf</td>\n",
       "      <td>legfiimm_2890__</td>\n",
       "      <td>https://www.epc.bnl.it/bnl/filedownload.ashx?i...</td>\n",
       "    </tr>\n",
       "    <tr>\n",
       "      <th>...</th>\n",
       "      <td>...</td>\n",
       "      <td>...</td>\n",
       "      <td>...</td>\n",
       "      <td>...</td>\n",
       "      <td>...</td>\n",
       "      <td>...</td>\n",
       "    </tr>\n",
       "    <tr>\n",
       "      <th>1299459</th>\n",
       "      <td>1367400.0</td>\n",
       "      <td>altro</td>\n",
       "      <td>altro</td>\n",
       "      <td>03384753.zip</td>\n",
       "      <td>allega documento</td>\n",
       "      <td>https://www.epc.bnl.it/bnl/filedownload.ashx?i...</td>\n",
       "    </tr>\n",
       "    <tr>\n",
       "      <th>1299489</th>\n",
       "      <td>1372272.0</td>\n",
       "      <td>altro</td>\n",
       "      <td>altro</td>\n",
       "      <td>03460145.pdf</td>\n",
       "      <td>documentogenerico___</td>\n",
       "      <td>https://www.epc.bnl.it/bnl/filedownload.ashx?i...</td>\n",
       "    </tr>\n",
       "    <tr>\n",
       "      <th>1299498</th>\n",
       "      <td>1372779.0</td>\n",
       "      <td>altro</td>\n",
       "      <td>altro</td>\n",
       "      <td>03597572.pdf</td>\n",
       "      <td>ritiro copia/e esecutiva/e del titolo</td>\n",
       "      <td>https://www.epc.bnl.it/bnl/filedownload.ashx?i...</td>\n",
       "    </tr>\n",
       "    <tr>\n",
       "      <th>1299502</th>\n",
       "      <td>1374833.0</td>\n",
       "      <td>altro</td>\n",
       "      <td>altro</td>\n",
       "      <td>03484174.zip</td>\n",
       "      <td>allega documento</td>\n",
       "      <td>https://www.epc.bnl.it/bnl/filedownload.ashx?i...</td>\n",
       "    </tr>\n",
       "    <tr>\n",
       "      <th>1299527</th>\n",
       "      <td>1375939.0</td>\n",
       "      <td>altro</td>\n",
       "      <td>altro</td>\n",
       "      <td>03595358.pdf</td>\n",
       "      <td>allega documento</td>\n",
       "      <td>https://www.epc.bnl.it/bnl/filedownload.ashx?i...</td>\n",
       "    </tr>\n",
       "  </tbody>\n",
       "</table>\n",
       "<p>546699 rows × 6 columns</p>\n",
       "</div>"
      ],
      "text/plain": [
       "          num_prat famiglia des_tipodoc            nomefile  \\\n",
       "1            532.0    altro       altro  00511949.pdf         \n",
       "3            946.0    altro       altro  00946317.pdf         \n",
       "4           1538.0    altro       altro  02080862.pdf         \n",
       "6           1599.0    altro       altro  00331905.pdf         \n",
       "7           1599.0    altro       altro  00839638.pdf         \n",
       "...            ...      ...         ...                 ...   \n",
       "1299459  1367400.0    altro       altro  03384753.zip         \n",
       "1299489  1372272.0    altro       altro  03460145.pdf         \n",
       "1299498  1372779.0    altro       altro  03597572.pdf         \n",
       "1299502  1374833.0    altro       altro  03484174.zip         \n",
       "1299527  1375939.0    altro       altro  03595358.pdf         \n",
       "\n",
       "                                      nome_epc  \\\n",
       "1                          inserimento acconto   \n",
       "3                             allega documento   \n",
       "4                         documentogenerico___   \n",
       "6                             allega documento   \n",
       "7                              legfiimm_2890__   \n",
       "...                                        ...   \n",
       "1299459                       allega documento   \n",
       "1299489                   documentogenerico___   \n",
       "1299498  ritiro copia/e esecutiva/e del titolo   \n",
       "1299502                       allega documento   \n",
       "1299527                       allega documento   \n",
       "\n",
       "                                                       url  \n",
       "1        https://www.epc.bnl.it/bnl/filedownload.ashx?i...  \n",
       "3        https://www.epc.bnl.it/bnl/filedownload.ashx?i...  \n",
       "4        https://www.epc.bnl.it/bnl/filedownload.ashx?i...  \n",
       "6        https://www.epc.bnl.it/bnl/filedownload.ashx?i...  \n",
       "7        https://www.epc.bnl.it/bnl/filedownload.ashx?i...  \n",
       "...                                                    ...  \n",
       "1299459  https://www.epc.bnl.it/bnl/filedownload.ashx?i...  \n",
       "1299489  https://www.epc.bnl.it/bnl/filedownload.ashx?i...  \n",
       "1299498  https://www.epc.bnl.it/bnl/filedownload.ashx?i...  \n",
       "1299502  https://www.epc.bnl.it/bnl/filedownload.ashx?i...  \n",
       "1299527  https://www.epc.bnl.it/bnl/filedownload.ashx?i...  \n",
       "\n",
       "[546699 rows x 6 columns]"
      ]
     },
     "execution_count": 17,
     "metadata": {},
     "output_type": "execute_result"
    }
   ],
   "source": [
    "df2021[df2021['famiglia'] == 'altro'].shape()"
   ]
  },
  {
   "cell_type": "code",
   "execution_count": 18,
   "metadata": {},
   "outputs": [
    {
     "data": {
      "text/plain": [
       "famiglia\n",
       "altro                                                                                  546699\n",
       "fatture                                                                                238485\n",
       "visure                                                                                 112119\n",
       "atti giudiziali                                                                         98892\n",
       "comunicazioni                                                                           79357\n",
       "certificazioni contabili                                                                57027\n",
       "perizie                                                                                 43362\n",
       "pubblicita'                                                                             38159\n",
       "passaggi di status e relativa documentazione                                            26889\n",
       "proposte                                                                                21795\n",
       "contratti e documentazione relativa                                                     16784\n",
       "garanzie e documentazione relativa                                                       9674\n",
       "closing                                                                                  7738\n",
       "imposte                                                                                  2408\n",
       "documenti non classificati                                                                122\n",
       "delibere                                                                                   17\n",
       "https://www.epc.bnl.it/bnl/filedownload.ashx?i=1&codicefase=5246330&num_prat=559377         1\n",
       "Name: count, dtype: int64"
      ]
     },
     "execution_count": 18,
     "metadata": {},
     "output_type": "execute_result"
    }
   ],
   "source": [
    "df2021.famiglia.value_counts()"
   ]
  },
  {
   "cell_type": "code",
   "execution_count": 19,
   "metadata": {},
   "outputs": [],
   "source": [
    "df2021.loc[df2021['famiglia'] == 'https://www.epc.bnl.it/bnl/filedownload.ashx?i=1&codicefase=5246330&num_prat=559377', 'famiglia'] = 'altro'\n",
    "df2021.loc[df2021['famiglia'] == 'documenti non classificati', 'famiglia'] = 'altro'"
   ]
  },
  {
   "cell_type": "code",
   "execution_count": 20,
   "metadata": {},
   "outputs": [
    {
     "data": {
      "text/plain": [
       "nome_epc\n",
       "False    528069\n",
       "True      18304\n",
       "Name: count, dtype: int64"
      ]
     },
     "execution_count": 20,
     "metadata": {},
     "output_type": "execute_result"
    }
   ],
   "source": [
    "df2021[df2021['famiglia'] == 'altro'].nome_epc.str.startswith('_').unique().value_counts()"
   ]
  },
  {
   "cell_type": "code",
   "execution_count": 21,
   "metadata": {},
   "outputs": [
    {
     "name": "stderr",
     "output_type": "stream",
     "text": [
      "C:\\Users\\sophia.dellarciprete\\AppData\\Local\\Temp\\ipykernel_21184\\1810965180.py:10: FutureWarning: DataFrame.applymap has been deprecated. Use DataFrame.map instead.\n",
      "  df2021 = df2021.applymap(lambda x: x.strip() if isinstance(x, str) else x)\n"
     ]
    }
   ],
   "source": [
    "#sum(filtered_df['nome_epc'].isna())\n",
    "df2021 = df2021[~df2021['nome_epc'].isna()]\n",
    "\n",
    "df2021['original'] = df2021['nome_epc']\n",
    "# Keep only alphabetic characters and spaces\n",
    "df2021['nome_epc'] = df2021['original'].apply(lambda x: ''.join([c for c in x if c.isalpha() or c.isspace()]))\n",
    "df2021['nome_epc'] = df2021['nome_epc'].str.replace(r'\\s{2,}', ' ', regex=True)\n",
    "\n",
    "# Trim leading and trailing whitespaces\n",
    "df2021 = df2021.applymap(lambda x: x.strip() if isinstance(x, str) else x)"
   ]
  },
  {
   "cell_type": "code",
   "execution_count": 32,
   "metadata": {},
   "outputs": [],
   "source": [
    "filtered_df = df2021[['famiglia', 'nome_epc', 'original']]\n",
    "#filtered_df.to_feather('zeus_download_doc_digitalizzati20210514.feather')"
   ]
  },
  {
   "cell_type": "code",
   "execution_count": 23,
   "metadata": {},
   "outputs": [],
   "source": [
    "import spacy\n",
    "\n",
    "nlp = spacy.load('it_core_news_sm')\n"
   ]
  },
  {
   "cell_type": "code",
   "execution_count": 33,
   "metadata": {},
   "outputs": [],
   "source": [
    "df_clean = filtered_df.drop_duplicates()"
   ]
  },
  {
   "cell_type": "code",
   "execution_count": 34,
   "metadata": {},
   "outputs": [],
   "source": [
    "'''for index, row in df_clean.iterrows():\n",
    "    # Apply spaCy processing to the text in the nome_epc column\n",
    "    doc = nlp(row['nome_epc'])\n",
    "    \n",
    "    # Lemmatize and remove stop words\n",
    "    cleaned_text = ' '.join([token.lemma_ for token in doc if not token.is_stop])\n",
    "\n",
    "    # Update the DataFrame with the cleaned text\n",
    "    df_clean.at[index, 'nome_epc'] = cleaned_text'''\n",
    "# Ci ha messo 42min"
   ]
  },
  {
   "cell_type": "code",
   "execution_count": null,
   "metadata": {},
   "outputs": [],
   "source": [
    "spacy.lang.it.stop_words.STOP_WORDS"
   ]
  },
  {
   "cell_type": "code",
   "execution_count": null,
   "metadata": {},
   "outputs": [],
   "source": [
    "#Hopefully it takes less than 42min\n",
    "def process_row(row):\n",
    "    doc = nlp(row['nome_epc'])\n",
    "    cleaned_text = ' '.join([token.lemma_ for token in doc if not token.is_stop])\n",
    "    return cleaned_text\n",
    "\n",
    "# Apply the processing function to the 'nome_epc' column\n",
    "df_clean['nome_epc'] = df_clean.apply(lambda row: process_row(row), axis=1)"
   ]
  },
  {
   "cell_type": "code",
   "execution_count": 35,
   "metadata": {},
   "outputs": [
    {
     "data": {
      "text/plain": [
       "21837"
      ]
     },
     "execution_count": 35,
     "metadata": {},
     "output_type": "execute_result"
    }
   ],
   "source": [
    "len(df_clean['nome_epc'].unique()) #21837 with the one of 42min"
   ]
  },
  {
   "cell_type": "code",
   "execution_count": 36,
   "metadata": {},
   "outputs": [
    {
     "data": {
      "text/plain": [
       "374512"
      ]
     },
     "execution_count": 36,
     "metadata": {},
     "output_type": "execute_result"
    }
   ],
   "source": [
    "len(df_clean['original'].unique())"
   ]
  },
  {
   "cell_type": "code",
   "execution_count": 41,
   "metadata": {},
   "outputs": [],
   "source": [
    "counts_dict = {}\n",
    "\n",
    "# Iterate over unique 'famiglia' values\n",
    "for famiglia_value in df_clean['famiglia'].unique():\n",
    "    \n",
    "    # Filter DataFrame for the current 'famiglia'\n",
    "    filtered = df_clean[df_clean['famiglia'] == famiglia_value]\n",
    "    \n",
    "    # Count occurrences of each 'nome_epc' for the current 'famiglia'\n",
    "    nome_epc_counts = filtered['nome_epc'].value_counts().to_dict()\n",
    "    \n",
    "    # Add counts to the dictionary\n",
    "    counts_dict[famiglia_value] = nome_epc_counts\n"
   ]
  },
  {
   "cell_type": "code",
   "execution_count": 42,
   "metadata": {},
   "outputs": [],
   "source": [
    "counts_df = pd.DataFrame(counts_dict)\n",
    "counts_df = counts_df.drop(columns=['altro'])"
   ]
  },
  {
   "cell_type": "code",
   "execution_count": null,
   "metadata": {},
   "outputs": [],
   "source": [
    "counts_df"
   ]
  },
  {
   "cell_type": "code",
   "execution_count": 47,
   "metadata": {},
   "outputs": [
    {
     "name": "stderr",
     "output_type": "stream",
     "text": [
      "C:\\Users\\sophia.dellarciprete\\AppData\\Local\\Temp\\ipykernel_21184\\1180638684.py:1: FutureWarning: The behavior of DataFrame.idxmax with all-NA values, or any-NA and skipna=False, is deprecated. In a future version this will raise ValueError\n",
      "  max_family_for_row = counts_df.idxmax(axis=1)\n"
     ]
    },
    {
     "data": {
      "text/html": [
       "<div>\n",
       "<style scoped>\n",
       "    .dataframe tbody tr th:only-of-type {\n",
       "        vertical-align: middle;\n",
       "    }\n",
       "\n",
       "    .dataframe tbody tr th {\n",
       "        vertical-align: top;\n",
       "    }\n",
       "\n",
       "    .dataframe thead th {\n",
       "        text-align: right;\n",
       "    }\n",
       "</style>\n",
       "<table border=\"1\" class=\"dataframe\">\n",
       "  <thead>\n",
       "    <tr style=\"text-align: right;\">\n",
       "      <th></th>\n",
       "      <th>word</th>\n",
       "      <th>famiglia</th>\n",
       "    </tr>\n",
       "  </thead>\n",
       "  <tbody>\n",
       "    <tr>\n",
       "      <th>0</th>\n",
       "      <td>cpnotula</td>\n",
       "      <td>fatture</td>\n",
       "    </tr>\n",
       "    <tr>\n",
       "      <th>1</th>\n",
       "      <td>legnotula</td>\n",
       "      <td>fatture</td>\n",
       "    </tr>\n",
       "    <tr>\n",
       "      <th>2</th>\n",
       "      <td>propostedidelibero</td>\n",
       "      <td>proposte</td>\n",
       "    </tr>\n",
       "    <tr>\n",
       "      <th>3</th>\n",
       "      <td>sollecito pagamento fattura ctu</td>\n",
       "      <td>fatture</td>\n",
       "    </tr>\n",
       "    <tr>\n",
       "      <th>4</th>\n",
       "      <td>esito esperimento vendita deserto fissare espe...</td>\n",
       "      <td>fatture</td>\n",
       "    </tr>\n",
       "    <tr>\n",
       "      <th>...</th>\n",
       "      <td>...</td>\n",
       "      <td>...</td>\n",
       "    </tr>\n",
       "    <tr>\n",
       "      <th>21832</th>\n",
       "      <td>secondo copia esecutivo contrarre finanziament...</td>\n",
       "      <td>contratti e documentazione relativa</td>\n",
       "    </tr>\n",
       "    <tr>\n",
       "      <th>21833</th>\n",
       "      <td>contrarre conto corrente mancare</td>\n",
       "      <td>contratti e documentazione relativa</td>\n",
       "    </tr>\n",
       "    <tr>\n",
       "      <th>21834</th>\n",
       "      <td>contratto finanziamento   noto ipotecario</td>\n",
       "      <td>contratti e documentazione relativa</td>\n",
       "    </tr>\n",
       "    <tr>\n",
       "      <th>21835</th>\n",
       "      <td>ii copia esecutivo atto quietanza frazionamento</td>\n",
       "      <td>contratti e documentazione relativa</td>\n",
       "    </tr>\n",
       "    <tr>\n",
       "      <th>21836</th>\n",
       "      <td>delibere delibere   deliberare concessione fin...</td>\n",
       "      <td>delibere</td>\n",
       "    </tr>\n",
       "  </tbody>\n",
       "</table>\n",
       "<p>21837 rows × 2 columns</p>\n",
       "</div>"
      ],
      "text/plain": [
       "                                                    word  \\\n",
       "0                                               cpnotula   \n",
       "1                                              legnotula   \n",
       "2                                     propostedidelibero   \n",
       "3                        sollecito pagamento fattura ctu   \n",
       "4      esito esperimento vendita deserto fissare espe...   \n",
       "...                                                  ...   \n",
       "21832  secondo copia esecutivo contrarre finanziament...   \n",
       "21833                   contrarre conto corrente mancare   \n",
       "21834          contratto finanziamento   noto ipotecario   \n",
       "21835    ii copia esecutivo atto quietanza frazionamento   \n",
       "21836  delibere delibere   deliberare concessione fin...   \n",
       "\n",
       "                                  famiglia  \n",
       "0                                  fatture  \n",
       "1                                  fatture  \n",
       "2                                 proposte  \n",
       "3                                  fatture  \n",
       "4                                  fatture  \n",
       "...                                    ...  \n",
       "21832  contratti e documentazione relativa  \n",
       "21833  contratti e documentazione relativa  \n",
       "21834  contratti e documentazione relativa  \n",
       "21835  contratti e documentazione relativa  \n",
       "21836                             delibere  \n",
       "\n",
       "[21837 rows x 2 columns]"
      ]
     },
     "execution_count": 47,
     "metadata": {},
     "output_type": "execute_result"
    }
   ],
   "source": [
    "max_family_for_row = counts_df.idxmax(axis=1)\n",
    "\n",
    "# Create a new DataFrame with 'word' as index and 'famiglia' as the corresponding column\n",
    "result_df = pd.DataFrame({'word': max_family_for_row.index, 'famiglia': max_family_for_row.values})\n",
    "\n",
    "result_df"
   ]
  },
  {
   "cell_type": "code",
   "execution_count": 52,
   "metadata": {},
   "outputs": [],
   "source": [
    "copia = result_df.copy()"
   ]
  },
  {
   "cell_type": "code",
   "execution_count": 51,
   "metadata": {},
   "outputs": [],
   "source": [
    "classificate = result_df[~result_df['famiglia'].isna()]"
   ]
  },
  {
   "cell_type": "code",
   "execution_count": 69,
   "metadata": {},
   "outputs": [],
   "source": [
    "non_classificate = result_df[result_df['famiglia'].isna()]"
   ]
  },
  {
   "cell_type": "code",
   "execution_count": null,
   "metadata": {},
   "outputs": [],
   "source": [
    "'''from fuzzywuzzy import fuzz\n",
    "\n",
    "# Define a function to find the best match in the 'nome_epc' column and return its family\n",
    "def find_best_match(description, df_clean):\n",
    "    max_similarity = 0\n",
    "    best_match = None\n",
    "    for index, row in df_clean.iterrows():\n",
    "        family_description = row['nome_epc']\n",
    "        similarity = fuzz.token_sort_ratio(description, family_description)\n",
    "        if similarity > max_similarity:\n",
    "            max_similarity = similarity\n",
    "            best_match = row['famiglia']\n",
    "    return best_match\n",
    "\n",
    "# Iterate over 'altro' entries and classify them\n",
    "for index, row in non_classificate.iterrows():\n",
    "    description = row['word']\n",
    "    best_match = find_best_match(description, df_clean)\n",
    "    non_classificate.at[index, 'famiglia'] = best_match\n",
    "'''\n",
    "\n",
    "'''\n",
    "famiglia\n",
    "contratti e documentazione relativa             3905\n",
    "garanzie e documentazione relativa              2928\n",
    "certificazioni contabili                        1939\n",
    "passaggi di status e relativa documentazione    1839\n",
    "comunicazioni                                   1179\n",
    "atti giudiziali                                  852\n",
    "fatture                                          567\n",
    "proposte                                         457\n",
    "delibere                                         454\n",
    "perizie                                          401\n",
    "visure                                           337\n",
    "imposte                                          227\n",
    "pubblicita'                                      191\n",
    "closing                                          166\n",
    "altro                                             59\n",
    "'''\n",
    "#at min 46 I stoped it and it seemed to have done everything ???"
   ]
  },
  {
   "cell_type": "code",
   "execution_count": 67,
   "metadata": {},
   "outputs": [
    {
     "data": {
      "text/plain": [
       "famiglia\n",
       "contratti e documentazione relativa             3905\n",
       "garanzie e documentazione relativa              2928\n",
       "certificazioni contabili                        1939\n",
       "passaggi di status e relativa documentazione    1839\n",
       "comunicazioni                                   1179\n",
       "atti giudiziali                                  852\n",
       "fatture                                          567\n",
       "proposte                                         457\n",
       "delibere                                         454\n",
       "perizie                                          401\n",
       "visure                                           337\n",
       "imposte                                          227\n",
       "pubblicita'                                      191\n",
       "closing                                          166\n",
       "altro                                             59\n",
       "Name: count, dtype: int64"
      ]
     },
     "execution_count": 67,
     "metadata": {},
     "output_type": "execute_result"
    }
   ],
   "source": [
    "non_classificate.famiglia.value_counts()"
   ]
  }
 ],
 "metadata": {
  "kernelspec": {
   "display_name": "myenv",
   "language": "python",
   "name": "python3"
  },
  "language_info": {
   "codemirror_mode": {
    "name": "ipython",
    "version": 3
   },
   "file_extension": ".py",
   "mimetype": "text/x-python",
   "name": "python",
   "nbconvert_exporter": "python",
   "pygments_lexer": "ipython3",
   "version": "3.11.5"
  }
 },
 "nbformat": 4,
 "nbformat_minor": 2
}
